{
 "cells": [
  {
   "cell_type": "code",
   "execution_count": 1,
   "id": "e1dc14a9",
   "metadata": {},
   "outputs": [
    {
     "data": {
      "text/plain": [
       "'Abdoo\\n'"
      ]
     },
     "execution_count": 1,
     "metadata": {},
     "output_type": "execute_result"
    }
   ],
   "source": [
    "#n1\n",
    "f = open(\"C:/Users/Baker/Downloads/Documents/python text.txt\")\n",
    "\n",
    "f.read()"
   ]
  },
  {
   "cell_type": "code",
   "execution_count": 3,
   "id": "910294b5",
   "metadata": {},
   "outputs": [
    {
     "name": "stdout",
     "output_type": "stream",
     "text": [
      "Abdoo\n",
      "\n",
      "\n",
      "\n"
     ]
    }
   ],
   "source": [
    "#n2\n",
    "f = open(\"C:/Users/Baker/Downloads/Documents/python text.txt\")\n",
    "n=3\n",
    "for i in range(n):\n",
    "    print(f.readline())"
   ]
  },
  {
   "cell_type": "code",
   "execution_count": 4,
   "id": "11a539dd",
   "metadata": {},
   "outputs": [
    {
     "name": "stdout",
     "output_type": "stream",
     "text": [
      "Abdoo\n",
      "\n"
     ]
    }
   ],
   "source": [
    "#n3\n",
    "with open(\"C:/Users/Baker/Downloads/Documents/python text.txt\")as f:\n",
    "    for lines in (f.readlines()[-3:]):\n",
    "        print(lines)"
   ]
  },
  {
   "cell_type": "code",
   "execution_count": 6,
   "id": "98438d47",
   "metadata": {},
   "outputs": [
    {
     "data": {
      "text/plain": [
       "1"
      ]
     },
     "execution_count": 6,
     "metadata": {},
     "output_type": "execute_result"
    }
   ],
   "source": [
    "#n4\n",
    "f = open(\"C:/Users/Baker/Downloads/Documents/python text.txt\")\n",
    "y = f.read()\n",
    "len(y.split())"
   ]
  },
  {
   "cell_type": "code",
   "execution_count": null,
   "id": "bdd79005",
   "metadata": {},
   "outputs": [],
   "source": []
  }
 ],
 "metadata": {
  "kernelspec": {
   "display_name": "Python 3 (ipykernel)",
   "language": "python",
   "name": "python3"
  },
  "language_info": {
   "codemirror_mode": {
    "name": "ipython",
    "version": 3
   },
   "file_extension": ".py",
   "mimetype": "text/x-python",
   "name": "python",
   "nbconvert_exporter": "python",
   "pygments_lexer": "ipython3",
   "version": "3.9.13"
  }
 },
 "nbformat": 4,
 "nbformat_minor": 5
}
